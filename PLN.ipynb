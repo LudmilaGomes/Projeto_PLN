{
  "cells": [
    {
      "cell_type": "code",
      "execution_count": 1,
      "metadata": {
        "id": "BGS2eFo9AEfa"
      },
      "outputs": [
        {
          "name": "stderr",
          "output_type": "stream",
          "text": [
            "2025-09-29 23:05:54.312268: I tensorflow/core/util/port.cc:153] oneDNN custom operations are on. You may see slightly different numerical results due to floating-point round-off errors from different computation orders. To turn them off, set the environment variable `TF_ENABLE_ONEDNN_OPTS=0`.\n",
            "2025-09-29 23:05:54.325478: E external/local_xla/xla/stream_executor/cuda/cuda_fft.cc:467] Unable to register cuFFT factory: Attempting to register factory for plugin cuFFT when one has already been registered\n",
            "WARNING: All log messages before absl::InitializeLog() is called are written to STDERR\n",
            "E0000 00:00:1759197954.341219   73860 cuda_dnn.cc:8579] Unable to register cuDNN factory: Attempting to register factory for plugin cuDNN when one has already been registered\n",
            "E0000 00:00:1759197954.348436   73860 cuda_blas.cc:1407] Unable to register cuBLAS factory: Attempting to register factory for plugin cuBLAS when one has already been registered\n",
            "W0000 00:00:1759197954.360288   73860 computation_placer.cc:177] computation placer already registered. Please check linkage and avoid linking the same target more than once.\n",
            "W0000 00:00:1759197954.360309   73860 computation_placer.cc:177] computation placer already registered. Please check linkage and avoid linking the same target more than once.\n",
            "W0000 00:00:1759197954.360311   73860 computation_placer.cc:177] computation placer already registered. Please check linkage and avoid linking the same target more than once.\n",
            "W0000 00:00:1759197954.360312   73860 computation_placer.cc:177] computation placer already registered. Please check linkage and avoid linking the same target more than once.\n",
            "2025-09-29 23:05:54.364250: I tensorflow/core/platform/cpu_feature_guard.cc:210] This TensorFlow binary is optimized to use available CPU instructions in performance-critical operations.\n",
            "To enable the following instructions: AVX2 AVX512F AVX512_VNNI FMA, in other operations, rebuild TensorFlow with the appropriate compiler flags.\n",
            "/home/ludmila/.local/lib/python3.10/site-packages/matplotlib/projections/__init__.py:63: UserWarning: Unable to import Axes3D. This may be due to multiple versions of Matplotlib being installed (e.g. as a system package and as a pip package). As a result, the 3D projection is not available.\n",
            "  warnings.warn(\"Unable to import Axes3D. This may be due to multiple versions of \"\n"
          ]
        }
      ],
      "source": [
        "#Imports\n",
        "import os\n",
        "import re\n",
        "import random\n",
        "import numpy as np\n",
        "import tensorflow as tf\n",
        "from tensorflow.keras import layers, models, callbacks\n",
        "from nltk.util import ngrams\n",
        "from nltk.tokenize import word_tokenize\n",
        "import nltk"
      ]
    },
    {
      "cell_type": "code",
      "execution_count": 2,
      "metadata": {
        "id": "8CRzZDANARcm"
      },
      "outputs": [],
      "source": [
        "#Configurações e hiperparâmetros\n",
        "\n",
        "#FILE_O: arquivo bruto (raw) com todo o corpus\n",
        "#FILE_L: arquivo que conterá o texto limpo\n",
        "\n",
        "FILE_O = '../gutenberg_concat.txt'\n",
        "FILE_L = 'gutenberg_concat_clean.txt'\n",
        "# FILE_O = '../medium_concat.txt'\n",
        "# FILE_L = 'medium_concat_clean.txt'\n",
        "# FILE_O = '../internet_archive_scifi_v3.txt'\n",
        "# FILE_L = 'internet_archive_scifi_v3_clean.txt'\n",
        "\n",
        "#Parâmetros do dataset e do treino\n",
        "SEQ_LEN = 200              #Comprimento da sequência de entrada\n",
        "STEP = 1                   #Passo para construir sequências\n",
        "BATCH_SIZE = 32            #Tamanho do lote para treinamento\n",
        "EPOCHS = 4                 #Número de épocas de treinamento\n",
        "EMB_DIM = 16               #Dimensão do embedding de caracteres\n",
        "LSTM_UNITS = 128           #Número de unidades LSTM\n",
        "MODEL_CHECKPOINT = 'char_model_best_heavy.keras'  #Arquivo para salvar/recuperar o modelo\n",
        "SHUFFLE_BUFFER_SIZE = 10000\n",
        "TREINO = True              #Se True, executa o treinamento, se False, carrega modelo e não treina\n",
        "\n",
        "SEED = 35\n",
        "random.seed(SEED)\n",
        "np.random.seed(SEED)\n",
        "tf.random.set_seed(SEED)"
      ]
    },
    {
      "cell_type": "code",
      "execution_count": 3,
      "metadata": {
        "id": "LctS8-FGA6WE"
      },
      "outputs": [
        {
          "name": "stdout",
          "output_type": "stream",
          "text": [
            "Arquivo limpo não encontrado. Lendo '../gutenberg_concat.txt' e aplicando limpeza via regex\n",
            "Limpeza concluída e salva em 'gutenberg_concat_clean.txt'.\n",
            "Length do arquivo após limpar: 100073640\n",
            "Trecho: conte do do arquivo livros gutenberg livro .txt th\n"
          ]
        }
      ],
      "source": [
        "#Função limpaTexto e gerenciamento de arquivo limpo\n",
        "\n",
        "def limpaTexto(path_raw):\n",
        "    \"\"\"\n",
        "    Lê o arquivo bruto em path_raw e aplica limpeza básica:\n",
        "      - Converte para minúsculas\n",
        "      - Remove caracteres que não sejam a-z, ponto, vírgula e espaço\n",
        "      - Colapsa espaços repetidos\n",
        "    Retorna a string limpa.\n",
        "    \"\"\"\n",
        "    with open(path_raw, 'r', encoding='utf-8', errors='ignore') as f:\n",
        "        text = f.read()\n",
        "\n",
        "    text = text.lower()\n",
        "    #Mantém apenas letras a-z, ponto, vírgula e espaço.\n",
        "    #Tudo que não corresponder ao regex é substituído por espaço.\n",
        "    text = re.sub(r'[^a-z., ]', ' ', text)\n",
        "    #Remove múltiplos espaços\n",
        "    text = re.sub(r'\\s+', ' ', text).strip()\n",
        "    return text\n",
        "\n",
        "#Se já existe o arquivo limpo, carrega, caso contrário, cria lendo o RAW e salvando.\n",
        "if os.path.exists(FILE_L):\n",
        "    print(f\"Arquivo limpo encontrado: {FILE_L}\")\n",
        "    with open(FILE_L, 'r', encoding='utf-8') as f:\n",
        "        text = f.read()\n",
        "else:\n",
        "    #Garante que o arquivo raw exista; se não existir, lança erro para notificar.\n",
        "    if not os.path.exists(FILE_O):\n",
        "        raise FileNotFoundError(f\"Arquivo raw '{FILE_O}' não encontrado no diretório atual\")\n",
        "\n",
        "    print(f\"Arquivo limpo não encontrado. Lendo '{FILE_O}' e aplicando limpeza via regex\")\n",
        "    text = limpaTexto(FILE_O)\n",
        "\n",
        "    with open(FILE_L, 'w', encoding='utf-8') as f:\n",
        "        f.write(text)\n",
        "    print(f\"Limpeza concluída e salva em '{FILE_L}'.\")\n",
        "\n",
        "print(\"Length do arquivo após limpar:\", len(text))\n",
        "print(\"Trecho:\", text[:50])"
      ]
    },
    {
      "cell_type": "code",
      "execution_count": 4,
      "metadata": {
        "id": "j5N295FgBNGP"
      },
      "outputs": [],
      "source": [
        "#Vocabulário (alphabet) e mapeamentos char<->idx\n",
        "\n",
        "#Define explicitamente o alfabeto aceito pelo modelo.\n",
        "#A ordem aqui influência os índices (char2idx).\n",
        "alphabet = list('abcdefghijklmnopqrstuvwxyz., ')\n",
        "\n",
        "#Dicionários para converter caractere -> índice e índice -> caractere\n",
        "char2idx = {c: i for i, c in enumerate(alphabet)}\n",
        "idx2char = {i: c for c, i in char2idx.items()}\n",
        "\n",
        "vocab_size = len(alphabet)  #Quantidade de tokens únicos\n",
        "\n",
        "#Converte todo o texto limpo para um array de índices inteiros (um por caractere).\n",
        "#Essa transformação é necessária para alimentar o TensorFlow.\n",
        "text_as_int = np.array([char2idx[c] for c in text])"
      ]
    },
    {
      "cell_type": "code",
      "execution_count": 5,
      "metadata": {
        "id": "tmxWm6u5BZ82"
      },
      "outputs": [
        {
          "name": "stderr",
          "output_type": "stream",
          "text": [
            "2025-09-29 23:06:11.161568: E external/local_xla/xla/stream_executor/cuda/cuda_platform.cc:51] failed call to cuInit: INTERNAL: CUDA error: Failed call to cuInit: UNKNOWN ERROR (303)\n"
          ]
        }
      ],
      "source": [
        "#Construção do tf.data.Dataset e criação de sequências\n",
        "\n",
        "#Cria um dataset a partir dos inteiros (um elemento por caractere)\n",
        "dataset = tf.data.Dataset.from_tensor_slices(text_as_int)\n",
        "\n",
        "#Agrupa os caracteres em sequencias de tamanho SEQ_LEN + 1.\n",
        "#Cada sequencia tem SEQ_LEN caracteres de entrada + 1 caractere alvo.\n",
        "sequences = dataset.batch(SEQ_LEN + 1, drop_remainder=True)\n",
        "\n",
        "def separarInputOutput(chunk):\n",
        "    \"\"\"\n",
        "    Recebe um chunk (tensor de shape (SEQ_LEN+1,)) e retorna:\n",
        "      - input_text: os primeiros SEQ_LEN elementos (sequência de entrada)\n",
        "      - target_text: o último elemento (o caractere a prever)\n",
        "    \"\"\"\n",
        "    input_text = chunk[:-1]\n",
        "    target_text = chunk[-1]\n",
        "    return input_text, target_text\n",
        "\n",
        "#Aplica a função de separação para obter pares (input, target)\n",
        "dataset = sequences.map(separarInputOutput)\n",
        "\n",
        "#Determina o tamanho total do dataset (número de sequências)\n",
        "DATASET_SIZE = len(sequences)\n",
        "VAL_SIZE = DATASET_SIZE // 10   #10% para validação\n",
        "TRAIN_SIZE = DATASET_SIZE - VAL_SIZE"
      ]
    },
    {
      "cell_type": "code",
      "execution_count": 6,
      "metadata": {
        "id": "ivc02dBYCFYO"
      },
      "outputs": [],
      "source": [
        "#Split treino/validação e preparação dos datasets para performance\n",
        "\n",
        "#Faz o split simples: os primeiros VAL_SIZE batches vão para validação\n",
        "val_dataset = dataset.take(VAL_SIZE)\n",
        "train_dataset = dataset.skip(VAL_SIZE)\n",
        "\n",
        "#Aplica batching, drop_remainder garante batch com shape fixo para o modelo\n",
        "train_dataset = (\n",
        "    train_dataset.batch(BATCH_SIZE, drop_remainder=True)\n",
        "    .prefetch(tf.data.experimental.AUTOTUNE)\n",
        ")\n",
        "\n",
        "val_dataset = (\n",
        "    val_dataset.batch(BATCH_SIZE, drop_remainder=True)\n",
        "    .prefetch(tf.data.experimental.AUTOTUNE)\n",
        ")"
      ]
    },
    {
      "cell_type": "code",
      "execution_count": 7,
      "metadata": {
        "id": "lsveel9mCbeL"
      },
      "outputs": [
        {
          "name": "stdout",
          "output_type": "stream",
          "text": [
            "Nenhum modelo salvo encontrado -> Construindo novo modelo\n"
          ]
        },
        {
          "data": {
            "text/html": [
              "<pre style=\"white-space:pre;overflow-x:auto;line-height:normal;font-family:Menlo,'DejaVu Sans Mono',consolas,'Courier New',monospace\"><span style=\"font-weight: bold\">Model: \"sequential\"</span>\n",
              "</pre>\n"
            ],
            "text/plain": [
              "\u001b[1mModel: \"sequential\"\u001b[0m\n"
            ]
          },
          "metadata": {},
          "output_type": "display_data"
        },
        {
          "data": {
            "text/html": [
              "<pre style=\"white-space:pre;overflow-x:auto;line-height:normal;font-family:Menlo,'DejaVu Sans Mono',consolas,'Courier New',monospace\">┏━━━━━━━━━━━━━━━━━━━━━━━━━━━━━━━━━┳━━━━━━━━━━━━━━━━━━━━━━━━┳━━━━━━━━━━━━━━━┓\n",
              "┃<span style=\"font-weight: bold\"> Layer (type)                    </span>┃<span style=\"font-weight: bold\"> Output Shape           </span>┃<span style=\"font-weight: bold\">       Param # </span>┃\n",
              "┡━━━━━━━━━━━━━━━━━━━━━━━━━━━━━━━━━╇━━━━━━━━━━━━━━━━━━━━━━━━╇━━━━━━━━━━━━━━━┩\n",
              "│ embedding (<span style=\"color: #0087ff; text-decoration-color: #0087ff\">Embedding</span>)           │ (<span style=\"color: #00d7ff; text-decoration-color: #00d7ff\">None</span>, <span style=\"color: #00af00; text-decoration-color: #00af00\">200</span>, <span style=\"color: #00af00; text-decoration-color: #00af00\">16</span>)        │           <span style=\"color: #00af00; text-decoration-color: #00af00\">464</span> │\n",
              "├─────────────────────────────────┼────────────────────────┼───────────────┤\n",
              "│ lstm (<span style=\"color: #0087ff; text-decoration-color: #0087ff\">LSTM</span>)                     │ (<span style=\"color: #00d7ff; text-decoration-color: #00d7ff\">None</span>, <span style=\"color: #00af00; text-decoration-color: #00af00\">128</span>)            │        <span style=\"color: #00af00; text-decoration-color: #00af00\">74,240</span> │\n",
              "├─────────────────────────────────┼────────────────────────┼───────────────┤\n",
              "│ dense (<span style=\"color: #0087ff; text-decoration-color: #0087ff\">Dense</span>)                   │ (<span style=\"color: #00d7ff; text-decoration-color: #00d7ff\">None</span>, <span style=\"color: #00af00; text-decoration-color: #00af00\">29</span>)             │         <span style=\"color: #00af00; text-decoration-color: #00af00\">3,741</span> │\n",
              "└─────────────────────────────────┴────────────────────────┴───────────────┘\n",
              "</pre>\n"
            ],
            "text/plain": [
              "┏━━━━━━━━━━━━━━━━━━━━━━━━━━━━━━━━━┳━━━━━━━━━━━━━━━━━━━━━━━━┳━━━━━━━━━━━━━━━┓\n",
              "┃\u001b[1m \u001b[0m\u001b[1mLayer (type)                   \u001b[0m\u001b[1m \u001b[0m┃\u001b[1m \u001b[0m\u001b[1mOutput Shape          \u001b[0m\u001b[1m \u001b[0m┃\u001b[1m \u001b[0m\u001b[1m      Param #\u001b[0m\u001b[1m \u001b[0m┃\n",
              "┡━━━━━━━━━━━━━━━━━━━━━━━━━━━━━━━━━╇━━━━━━━━━━━━━━━━━━━━━━━━╇━━━━━━━━━━━━━━━┩\n",
              "│ embedding (\u001b[38;5;33mEmbedding\u001b[0m)           │ (\u001b[38;5;45mNone\u001b[0m, \u001b[38;5;34m200\u001b[0m, \u001b[38;5;34m16\u001b[0m)        │           \u001b[38;5;34m464\u001b[0m │\n",
              "├─────────────────────────────────┼────────────────────────┼───────────────┤\n",
              "│ lstm (\u001b[38;5;33mLSTM\u001b[0m)                     │ (\u001b[38;5;45mNone\u001b[0m, \u001b[38;5;34m128\u001b[0m)            │        \u001b[38;5;34m74,240\u001b[0m │\n",
              "├─────────────────────────────────┼────────────────────────┼───────────────┤\n",
              "│ dense (\u001b[38;5;33mDense\u001b[0m)                   │ (\u001b[38;5;45mNone\u001b[0m, \u001b[38;5;34m29\u001b[0m)             │         \u001b[38;5;34m3,741\u001b[0m │\n",
              "└─────────────────────────────────┴────────────────────────┴───────────────┘\n"
            ]
          },
          "metadata": {},
          "output_type": "display_data"
        },
        {
          "data": {
            "text/html": [
              "<pre style=\"white-space:pre;overflow-x:auto;line-height:normal;font-family:Menlo,'DejaVu Sans Mono',consolas,'Courier New',monospace\"><span style=\"font-weight: bold\"> Total params: </span><span style=\"color: #00af00; text-decoration-color: #00af00\">78,445</span> (306.43 KB)\n",
              "</pre>\n"
            ],
            "text/plain": [
              "\u001b[1m Total params: \u001b[0m\u001b[38;5;34m78,445\u001b[0m (306.43 KB)\n"
            ]
          },
          "metadata": {},
          "output_type": "display_data"
        },
        {
          "data": {
            "text/html": [
              "<pre style=\"white-space:pre;overflow-x:auto;line-height:normal;font-family:Menlo,'DejaVu Sans Mono',consolas,'Courier New',monospace\"><span style=\"font-weight: bold\"> Trainable params: </span><span style=\"color: #00af00; text-decoration-color: #00af00\">78,445</span> (306.43 KB)\n",
              "</pre>\n"
            ],
            "text/plain": [
              "\u001b[1m Trainable params: \u001b[0m\u001b[38;5;34m78,445\u001b[0m (306.43 KB)\n"
            ]
          },
          "metadata": {},
          "output_type": "display_data"
        },
        {
          "data": {
            "text/html": [
              "<pre style=\"white-space:pre;overflow-x:auto;line-height:normal;font-family:Menlo,'DejaVu Sans Mono',consolas,'Courier New',monospace\"><span style=\"font-weight: bold\"> Non-trainable params: </span><span style=\"color: #00af00; text-decoration-color: #00af00\">0</span> (0.00 B)\n",
              "</pre>\n"
            ],
            "text/plain": [
              "\u001b[1m Non-trainable params: \u001b[0m\u001b[38;5;34m0\u001b[0m (0.00 B)\n"
            ]
          },
          "metadata": {},
          "output_type": "display_data"
        }
      ],
      "source": [
        "#Construção do modelo ou carregamento de checkpoint\n",
        "\n",
        "if os.path.exists(MODEL_CHECKPOINT):\n",
        "    print(\"Modelo existente encontrado, carregando de:\", MODEL_CHECKPOINT)\n",
        "    model = tf.keras.models.load_model(MODEL_CHECKPOINT)\n",
        "else:\n",
        "    print(\"Nenhum modelo salvo encontrado -> Construindo novo modelo\")\n",
        "\n",
        "    model = models.Sequential([\n",
        "        layers.Input(shape=(SEQ_LEN,)),                      #Entrada: sequência de inteiros (tamanho SEQ_LEN)\n",
        "        layers.Embedding(input_dim=vocab_size, output_dim=EMB_DIM),  #Embedding de caracteres\n",
        "        layers.LSTM(LSTM_UNITS),                             #LSTM que processa a sequência\n",
        "        layers.Dense(vocab_size, activation='softmax')       #Saída: predição sobre o próximo caractere\n",
        "    ])\n",
        "\n",
        "    #Compila com Adam e loss apropriada para rótulos inteiros\n",
        "    model.compile(optimizer='adam', loss='sparse_categorical_crossentropy')\n",
        "    model.summary()\n",
        "\n",
        "#Callback para salvar o melhor modelo (monitorando a loss de treino)\n",
        "chk = callbacks.ModelCheckpoint(\n",
        "    MODEL_CHECKPOINT,\n",
        "    monitor='loss',\n",
        "    save_best_only=True,\n",
        "    verbose=1,\n",
        "    save_weights_only=False  #Salva o modelo completo (arquivos .keras)\n",
        ")\n"
      ]
    },
    {
      "cell_type": "code",
      "execution_count": 8,
      "metadata": {
        "id": "vlGw03PfC9BX"
      },
      "outputs": [
        {
          "name": "stdout",
          "output_type": "stream",
          "text": [
            "Treinando/continuando o modelo\n",
            "Epoch 1/4\n",
            "\u001b[1m14002/14002\u001b[0m \u001b[32m━━━━━━━━━━━━━━━━━━━━\u001b[0m\u001b[37m\u001b[0m \u001b[1m0s\u001b[0m 50ms/step - loss: 2.1870\n",
            "Epoch 1: loss improved from inf to 1.98676, saving model to char_model_best_heavy.keras\n",
            "\u001b[1m14002/14002\u001b[0m \u001b[32m━━━━━━━━━━━━━━━━━━━━\u001b[0m\u001b[37m\u001b[0m \u001b[1m735s\u001b[0m 52ms/step - loss: 2.1870 - val_loss: 1.7806\n",
            "Epoch 2/4\n",
            "\u001b[1m14002/14002\u001b[0m \u001b[32m━━━━━━━━━━━━━━━━━━━━\u001b[0m\u001b[37m\u001b[0m \u001b[1m0s\u001b[0m 51ms/step - loss: 1.7415\n",
            "Epoch 2: loss improved from 1.98676 to 1.70833, saving model to char_model_best_heavy.keras\n",
            "\u001b[1m14002/14002\u001b[0m \u001b[32m━━━━━━━━━━━━━━━━━━━━\u001b[0m\u001b[37m\u001b[0m \u001b[1m755s\u001b[0m 53ms/step - loss: 1.7415 - val_loss: 1.6623\n",
            "Epoch 3/4\n",
            "\u001b[1m14001/14002\u001b[0m \u001b[32m━━━━━━━━━━━━━━━━━━━\u001b[0m\u001b[37m━\u001b[0m \u001b[1m0s\u001b[0m 51ms/step - loss: 1.6359\n",
            "Epoch 3: loss improved from 1.70833 to 1.61901, saving model to char_model_best_heavy.keras\n",
            "\u001b[1m14002/14002\u001b[0m \u001b[32m━━━━━━━━━━━━━━━━━━━━\u001b[0m\u001b[37m\u001b[0m \u001b[1m756s\u001b[0m 53ms/step - loss: 1.6359 - val_loss: 1.6123\n",
            "Epoch 4/4\n",
            "\u001b[1m14001/14002\u001b[0m \u001b[32m━━━━━━━━━━━━━━━━━━━\u001b[0m\u001b[37m━\u001b[0m \u001b[1m0s\u001b[0m 52ms/step - loss: 1.5805\n",
            "Epoch 4: loss improved from 1.61901 to 1.56905, saving model to char_model_best_heavy.keras\n",
            "\u001b[1m14002/14002\u001b[0m \u001b[32m━━━━━━━━━━━━━━━━━━━━\u001b[0m\u001b[37m\u001b[0m \u001b[1m770s\u001b[0m 54ms/step - loss: 1.5805 - val_loss: 1.5866\n",
            "\n",
            "==============================\n",
            "Loss de Validação Final: 1.5866\n",
            "Perplexidade do Modelo: 4.8873\n",
            "==============================\n",
            "\n"
          ]
        }
      ],
      "source": [
        "#Treinamento e relatório de perplexidade\n",
        "\n",
        "if TREINO:\n",
        "    print(\"Treinando/continuando o modelo\")\n",
        "    history = model.fit(\n",
        "        train_dataset,\n",
        "        epochs=EPOCHS,\n",
        "        callbacks=[chk],\n",
        "        validation_data=val_dataset\n",
        "    )\n",
        "\n",
        "    #Pega a loss de validação do último epoch para calcular perplexidade\n",
        "    final_val_loss = history.history['val_loss'][-1]\n",
        "    perplexidade = np.exp(final_val_loss)\n",
        "\n",
        "    print(\"\\n\" + \"=\"*30)\n",
        "    print(f\"Loss de Validação Final: {final_val_loss:.4f}\")\n",
        "    print(f\"Perplexidade do Modelo: {perplexidade:.4f}\")\n",
        "    print(\"=\"*30 + \"\\n\")\n",
        "else:\n",
        "    print(\"Pulando treinamento e usando modelo carregado\")\n"
      ]
    },
    {
      "cell_type": "code",
      "execution_count": 9,
      "metadata": {
        "id": "oJUn5JrODFNJ"
      },
      "outputs": [],
      "source": [
        "#Funções auxiliares para predizer próxima letra e gerar texto\n",
        "\n",
        "def sample(preds, temperature=1.0):\n",
        "    \"\"\"\n",
        "    preds: vetor de probabilidades (saída do modelo)\n",
        "    temperature: controla aleatoriedade; valores <1 tornam distribuição menos aleatória,\n",
        "                 valores >1 tornam a distribuição mais aleatória.\n",
        "    Retorna o índice amostrado/predito (int).\n",
        "    \"\"\"\n",
        "    preds = np.asarray(preds).astype('float64')\n",
        "    preds = np.log(preds + 1e-8) / float(temperature)\n",
        "    exp_preds = np.exp(preds)\n",
        "    preds = exp_preds / np.sum(exp_preds)\n",
        "    #Amostragem categórica a partir da distribuição resultante\n",
        "    probas = np.random.multinomial(1, preds, 1)\n",
        "    return np.argmax(probas)\n",
        "\n",
        "\n",
        "def generate(model, seed, length=400, temperature=1.0):\n",
        "    \"\"\"\n",
        "    Gera texto usando o modelo treinado.\n",
        "    - model: modelo Keras que toma sequências de inteiros e retorna probabilidades sobre o próximo caractere.\n",
        "    - seed: string inicial para condicionar a geração\n",
        "    - length: número de caracteres a gerar\n",
        "    - temperature: parâmetro de amostragem (passado para sample)\n",
        "\n",
        "    Retorna a string gerada (seed + caracteres amostrados).\n",
        "    \"\"\"\n",
        "    seed = seed.lower()\n",
        "    #Aplica mesma limpeza que no treinamento para garantir compatibilidade\n",
        "    seed = re.sub(r'[^a-z ]', ' ', seed)\n",
        "    seed = re.sub(r'\\s+', ' ', seed).strip()\n",
        "    if len(seed) == 0:\n",
        "        seed = ' '  #Caso seed vazia, usa espaço como contexto neutro\n",
        "\n",
        "    #Ajusta seed para ter exatamente SEQ_LEN caracteres: preenche à esquerda com espaços\n",
        "    if len(seed) < SEQ_LEN:\n",
        "        seed = (' ' * (SEQ_LEN - len(seed))) + seed\n",
        "    else:\n",
        "        seed = seed[-SEQ_LEN:]  #Usa apenas os últimos SEQ_LEN caracteres\n",
        "\n",
        "    generated = seed\n",
        "    for _ in range(length):\n",
        "        #Converte seed para array de índices\n",
        "        xpred = np.array([[char2idx[c] for c in seed]])\n",
        "\n",
        "        #Prediz probabilidades para o próximo caractere\n",
        "        preds = model.predict(xpred, verbose=0)[0]\n",
        "        next_index = sample(preds, temperature)\n",
        "        next_char = idx2char[next_index]\n",
        "        generated += next_char\n",
        "\n",
        "        #Desliza a seed (remove primeiro char e anexa o novo)\n",
        "        seed = seed[1:] + next_char\n",
        "\n",
        "    return generated\n"
      ]
    },
    {
      "cell_type": "code",
      "execution_count": 10,
      "metadata": {
        "id": "jaUIVUgs7Scj",
        "outputId": "e7fcfd6d-bc99-4675-ee71-ad7556bf1335"
      },
      "outputs": [
        {
          "name": "stdout",
          "output_type": "stream",
          "text": [
            "Texto gerado:\n",
            "                                                                                                                                                                               the king and the princess of the facting of the never present of the begund of the best of the fire, there s see to the first and recoff. a fore the first at the man was something to the tents of the other of or the never man seemed three a metting of carrow of the desoled my meant the from the chir the first about me belong in the same to the great up the pile of the copy of the particulara draw to the bather was a pall \n"
          ]
        }
      ],
      "source": [
        "seed = \"the king and the princess\"\n",
        "print(\"Texto gerado:\")\n",
        "print(generate(model, seed, length=400, temperature=0.5))"
      ]
    },
    {
      "cell_type": "markdown",
      "metadata": {},
      "source": [
        "- Armezenamento dos valores de loss em treino e validação"
      ]
    },
    {
      "cell_type": "code",
      "execution_count": null,
      "metadata": {
        "id": "8ccuZhwK7Sck",
        "outputId": "6e0f3ca8-95d3-4792-daa4-dab9edd917c7"
      },
      "outputs": [
        {
          "data": {
            "text/plain": [
              "([1.8091387748718262, 1.7275757789611816],\n",
              " [1.9730134010314941, 1.7585424184799194])"
            ]
          },
          "execution_count": 2,
          "metadata": {},
          "output_type": "execute_result"
        }
      ],
      "source": [
        "#Exibir gráfico de loss\n",
        "\n",
        "#Como a execução foi feita em partes (1º Gutenberg, 2º Medium, 3º Scifi)\n",
        "#As losses foram salvas em células diferentes e variáveis diferentes\n",
        "#Obs.: O treinamento foi continuado!\n",
        "val_loss = history.history['val_loss']\n",
        "train_loss = history.history['loss']\n",
        "\n",
        "val_loss1 = val_loss\n",
        "train_loss1 = train_loss\n",
        "\n",
        "val_loss1, train_loss1"
      ]
    },
    {
      "cell_type": "code",
      "execution_count": null,
      "metadata": {
        "id": "B1wqjegB7Sck",
        "outputId": "ef0a426b-8408-4a86-f5aa-3817e3ed14d4"
      },
      "outputs": [
        {
          "data": {
            "text/plain": [
              "([1.6529476642608643, 1.6118417978286743],\n",
              " [1.718830943107605, 1.632041335105896])"
            ]
          },
          "execution_count": 4,
          "metadata": {},
          "output_type": "execute_result"
        }
      ],
      "source": [
        "# val_loss = history.history['val_loss']\n",
        "# train_loss = history.history['loss']\n",
        "\n",
        "# val_loss2 = val_loss\n",
        "# train_loss2 = train_loss\n",
        "\n",
        "# val_loss2, train_loss2"
      ]
    },
    {
      "cell_type": "code",
      "execution_count": null,
      "metadata": {
        "id": "G4QEd0Bw7Scl",
        "outputId": "dc0b69f9-359d-41df-a3a7-e2aefc81bdac"
      },
      "outputs": [
        {
          "data": {
            "text/plain": [
              "([1.643356204032898, 1.6293249130249023],\n",
              " [1.6762632131576538, 1.6469626426696777])"
            ]
          },
          "execution_count": 6,
          "metadata": {},
          "output_type": "execute_result"
        }
      ],
      "source": [
        "# val_loss = history.history['val_loss']\n",
        "# train_loss = history.history['loss']\n",
        "\n",
        "# val_loss3 = val_loss\n",
        "# train_loss3 = train_loss\n",
        "\n",
        "# val_loss3, train_loss3"
      ]
    },
    {
      "cell_type": "code",
      "execution_count": null,
      "metadata": {
        "id": "8puHog9y7Scm",
        "outputId": "a8a3faf8-717d-4df0-ddd3-9a0eb65512fa"
      },
      "outputs": [
        {
          "data": {
            "text/plain": [
              "([1.9730134010314941,\n",
              "  1.7585424184799194,\n",
              "  1.718830943107605,\n",
              "  1.632041335105896,\n",
              "  1.6762632131576538,\n",
              "  1.6469626426696777],\n",
              " [1.8091387748718262,\n",
              "  1.7275757789611816,\n",
              "  1.6529476642608643,\n",
              "  1.6118417978286743,\n",
              "  1.643356204032898,\n",
              "  1.6293249130249023])"
            ]
          },
          "execution_count": 8,
          "metadata": {},
          "output_type": "execute_result"
        }
      ],
      "source": [
        "#Ao fim, as listas com as losses de cada execução foram concatenadas\n",
        "train_loss_final = train_loss1 + train_loss2 + train_loss3\n",
        "val_loss_final = val_loss1 + val_loss2 + val_loss3\n",
        "\n",
        "train_loss_final, val_loss_final"
      ]
    },
    {
      "cell_type": "code",
      "execution_count": null,
      "metadata": {
        "id": "nCeCg-DI7Scm",
        "outputId": "6c101f1c-f8f0-4c09-ba47-7c0eef633f16"
      },
      "outputs": [
        {
          "data": {
            "image/png": "[encoded data removed]",
            "text/plain": [
              "<Figure size 500x500 with 1 Axes>"
            ]
          },
          "metadata": {},
          "output_type": "display_data"
        }
      ],
      "source": [
        "import matplotlib.pyplot as plt\n",
        "\n",
        "plt.figure(figsize=(5, 5))\n",
        "plt.plot(train_loss_final, label='Train Loss')\n",
        "plt.plot(val_loss_final, label='Validation Loss')\n",
        "plt.xlabel('Épocas')\n",
        "plt.ylabel('Loss')\n",
        "plt.legend()\n",
        "plt.grid()"
      ]
    },
    {
      "cell_type": "code",
      "execution_count": null,
      "metadata": {
        "id": "-N5k6e2Y7Scn",
        "outputId": "174fd052-7642-458c-f4ff-55d21a53831a"
      },
      "outputs": [
        {
          "name": "stdout",
          "output_type": "stream",
          "text": [
            "\n",
            "--- Texto Gerado (semente: 'the king') ---\n",
            "                                                                                            the king of him. so when the bases of the per below the land a and s do and result and found of the out the day. i do everything were libry, and he start and seemed a be a starting as we sat on the reminded and even as i saled the the started the stranged up and something and be a beginning and for a remard, for your other our lead about it are her the course and it in a could and a could be a far she was\n",
            "--------------------------------------------------\n",
            "Distinct-1 (diversidade de palavras): 0.5938\n",
            "Distinct-2 (diversidade de pares de palavras): 0.9579\n",
            "==================================================\n",
            "\n"
          ]
        }
      ],
      "source": [
        "#Avaliação de diversidade com métricas Distinct-n\n",
        "\n",
        "#Verifica se recurso 'punkt' do NLTK está disponível, caso contrário, faz o download\n",
        "try:\n",
        "    nltk.data.find('tokenizers/punkt')\n",
        "except nltk.downloader.DownloadError:\n",
        "    nltk.download('punkt')\n",
        "\n",
        "\n",
        "def calcular_distinct_n(texto: str, n: int) -> float:\n",
        "    \"\"\"\n",
        "    Calcula a métrica Distinct-n em um texto.\n",
        "    - texto: string a ser avaliada\n",
        "    - n: tamanho do n-gram\n",
        "\n",
        "    Retorna um valor entre 0.0 e 1.0, representando a diversidade:\n",
        "      Distinct-n = (# n-grams únicos) / (# total de n-grams)\n",
        "    \"\"\"\n",
        "    if not texto.strip():\n",
        "        return 0.0  #Texto vazio ou só espaços -> diversidade nula\n",
        "\n",
        "    #Tokeniza o texto em palavras.\n",
        "    tokens = word_tokenize(texto.lower())\n",
        "\n",
        "    if len(tokens) < n:\n",
        "        return 0.0  #Não há tokens suficientes para formar n-gramas\n",
        "\n",
        "    #Gera lista de n-gramas, sendo tamanho dependente de n\n",
        "    n_grams = list(ngrams(tokens, n))\n",
        "    if not n_grams:\n",
        "        return 0.0\n",
        "\n",
        "    #Distinct-n = número de n-grams únicos dividido pelo total\n",
        "    return len(set(n_grams)) / len(n_grams)\n",
        "\n",
        "\n",
        "# Define a semente inicial para a geração\n",
        "semente = \"the king\"\n",
        "\n",
        "texto_gerado = generate(model, seed=semente, length=400, temperature=0.5)\n",
        "\n",
        "print(f\"\\n--- Texto Gerado (semente: '{semente}') ---\")\n",
        "print(texto_gerado)\n",
        "print(\"-\" * 50)\n",
        "\n",
        "#Calcula diversidade de unigramas (Distinct-1) e bigramas (Distinct-2)\n",
        "distinct_1 = calcular_distinct_n(texto_gerado, 1)\n",
        "distinct_2 = calcular_distinct_n(texto_gerado, 2)\n",
        "\n",
        "print(f\"Distinct-1 (diversidade de palavras): {distinct_1:.4f}\")\n",
        "print(f\"Distinct-2 (diversidade de pares de palavras): {distinct_2:.4f}\")\n",
        "print(\"=\"*50 + \"\\n\")\n"
      ]
    },
    {
      "cell_type": "markdown",
      "metadata": {},
      "source": [
        "### Testes"
      ]
    },
    {
      "cell_type": "code",
      "execution_count": null,
      "metadata": {},
      "outputs": [
        {
          "name": "stdout",
          "output_type": "stream",
          "text": [
            "Texto gerado:\n",
            "                                                                                                                                                                                                the king of the consides of the procar not his person of the sent, and he had a little to the adder and the terms of the other arr to be a mother of the dieds of the cold to the awail, never be action as their over, and almost intense the open the horses had gaint from the died and contribution of the coloristic side the grow the deautiful the thung of the gried and me so for the dark side to see a point \n"
          ]
        }
      ],
      "source": [
        "# model = tf.keras.models.load_model(\"char_model_best_final.keras\")\n",
        "\n",
        "seed = \"the king\"\n",
        "print(\"Texto gerado:\")\n",
        "print(generate(model, seed, length=400, temperature=0.5))"
      ]
    },
    {
      "cell_type": "code",
      "execution_count": null,
      "metadata": {},
      "outputs": [
        {
          "name": "stdout",
          "output_type": "stream",
          "text": [
            "Texto gerado:\n"
          ]
        }
      ],
      "source": [
        "seed = \"the king\"\n",
        "print(\"Texto gerado:\")\n",
        "print(generate(model, seed, length=400, temperature=0.5))"
      ]
    },
    {
      "cell_type": "code",
      "execution_count": null,
      "metadata": {},
      "outputs": [],
      "source": [
        "model = tf.keras.models.load_model(\"char_model_best_heavy.keras\")\n",
        "\n",
        "seed = \"the king\"\n",
        "print(\"Texto gerado:\")\n",
        "print(generate(model, seed, length=400, temperature=0.5))"
      ]
    }
  ],
  "metadata": {
    "accelerator": "GPU",
    "colab": {
      "gpuType": "T4",
      "provenance": []
    },
    "kernelspec": {
      "display_name": "Python 3",
      "name": "python3"
    },
    "language_info": {
      "codemirror_mode": {
        "name": "ipython",
        "version": 3
      },
      "file_extension": ".py",
      "mimetype": "text/x-python",
      "name": "python",
      "nbconvert_exporter": "python",
      "pygments_lexer": "ipython3",
      "version": "3.10.12"
    }
  },
  "nbformat": 4,
  "nbformat_minor": 0
}
